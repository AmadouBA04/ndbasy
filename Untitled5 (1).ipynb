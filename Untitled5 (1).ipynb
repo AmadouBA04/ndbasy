{
  "cells": [
    {
      "cell_type": "markdown",
      "metadata": {
        "id": "M00OV-6jOTSb"
      },
      "source": [
        "**MLP**"
      ]
    },
    {
      "cell_type": "code",
      "execution_count": 1,
      "metadata": {
        "id": "NhoICoG-KMRI"
      },
      "outputs": [],
      "source": [
        "from sklearn.neural_network import MLPClassifier\n",
        "from sklearn.model_selection import train_test_split\n",
        "from sklearn.preprocessing import StandardScaler\n",
        "import pandas as pd\n",
        "import shap\n",
        "#from sklearn.metrics import plot_confusion_matrix\n",
        "import matplotlib.pyplot as plt\n",
        "from sklearn.metrics import accuracy_score\n",
        "import seaborn as sns\n",
        "import numpy as np"
      ]
    },
    {
      "cell_type": "code",
      "execution_count": 3,
      "metadata": {
        "colab": {
          "base_uri": "https://localhost:8080/",
          "height": 339
        },
        "id": "UJgMAxGOK7Ba",
        "outputId": "1038e3be-e772-4178-f536-37876b5dd982"
      },
      "outputs": [],
      "source": [
        "import pandas as pd\n",
        "\n",
        "# Par exemple si le chemin est : C:\\Users\\AMADOUBA\\Desktop\n",
        "ff = pd.read_excel(r\"C:\\Users\\AMADOUBA\\Desktop\\Master2 SID\\Biostatistique\\Projet_Idy\\ccc.xlsx\")\n"
      ]
    },
    {
      "cell_type": "code",
      "execution_count": 4,
      "metadata": {
        "id": "k0C3GqZ1LqcC"
      },
      "outputs": [],
      "source": [
        "X = ff.drop(['DECES'],axis=1)\n",
        "Y = ff['DECES']"
      ]
    },
    {
      "cell_type": "code",
      "execution_count": 5,
      "metadata": {
        "id": "Ru0tpZoyMFWl"
      },
      "outputs": [],
      "source": [
        "X_train, X_test, Y_train, Y_test = train_test_split(X, Y, test_size = 0.3,random_state=42)"
      ]
    },
    {
      "cell_type": "code",
      "execution_count": 6,
      "metadata": {
        "colab": {
          "base_uri": "https://localhost:8080/"
        },
        "id": "0wGUcHf6N0fD",
        "outputId": "47228469-39ba-4f30-8d42-b8f206a63257"
      },
      "outputs": [
        {
          "name": "stdout",
          "output_type": "stream",
          "text": [
            "0.9746835443037974\n"
          ]
        },
        {
          "name": "stderr",
          "output_type": "stream",
          "text": [
            "c:\\Users\\AMADOUBA\\AppData\\Local\\Programs\\Python\\Python39\\lib\\site-packages\\sklearn\\neural_network\\_multilayer_perceptron.py:691: ConvergenceWarning: Stochastic Optimizer: Maximum iterations (200) reached and the optimization hasn't converged yet.\n",
            "  warnings.warn(\n"
          ]
        }
      ],
      "source": [
        "from sklearn.metrics import accuracy_score\n",
        "clf = MLPClassifier(hidden_layer_sizes=(10,20),activation=\"relu\",random_state=3).fit(X_train, Y_train)\n",
        "Y_pred=clf.predict(X_test)\n",
        "print(clf.score(X_test, Y_test))"
      ]
    },
    {
      "cell_type": "code",
      "execution_count": 7,
      "metadata": {
        "colab": {
          "base_uri": "https://localhost:8080/",
          "height": 469
        },
        "id": "E8tNXEgjOoeF",
        "outputId": "94529ab2-f463-43f3-fb25-85b779f1039b"
      },
      "outputs": [
        {
          "data": {
            "text/plain": [
              "Text(0.5, 1.0, 'Confusion matrix of Preceptron')"
            ]
          },
          "execution_count": 7,
          "metadata": {},
          "output_type": "execute_result"
        },
        {
          "data": {
            "image/png": "[encoded data removed]",
            "text/plain": [
              "<Figure size 640x480 with 2 Axes>"
            ]
          },
          "metadata": {},
          "output_type": "display_data"
        }
      ],
      "source": [
        "from sklearn.metrics import classification_report, confusion_matrix\n",
        "import seaborn as sns\n",
        "cm = confusion_matrix(Y_test,Y_pred)\n",
        "sns.heatmap(cm, annot=True, fmt='d').set_title('Confusion matrix of Preceptron') # fmt='d' formate les nombres sous forme de chiffres, ce qui signifie des nombres entiers"
      ]
    },
    {
      "cell_type": "code",
      "execution_count": 8,
      "metadata": {
        "colab": {
          "base_uri": "https://localhost:8080/"
        },
        "id": "sGE0ZfYqPFWp",
        "outputId": "500a2f5e-ed2f-4cc8-a574-17cb63134309"
      },
      "outputs": [
        {
          "name": "stdout",
          "output_type": "stream",
          "text": [
            "Accuracy: 0.9746835443037974\n",
            "Precision: 0.9777777777777777\n",
            "Recall: 0.9777777777777777\n",
            "Specificity: 0.971\n"
          ]
        }
      ],
      "source": [
        "from sklearn import metrics\n",
        "print(\"Accuracy:\",metrics.accuracy_score(Y_test, Y_pred))\n",
        "print(\"Precision:\",metrics.precision_score(Y_test, Y_pred))\n",
        "print(\"Recall:\",metrics.recall_score(Y_test, Y_pred))\n",
        "from sklearn.metrics import classification_report, confusion_matrix\n",
        "tn, fp, fn, tp = confusion_matrix(Y_test, Y_pred).ravel()\n",
        "specificity = tn / (tn+fp)\n",
        "print(f'''Specificity: {specificity:.3f}''')"
      ]
    },
    {
      "cell_type": "markdown",
      "metadata": {
        "id": "yhUlZjoKOI0i"
      },
      "source": [
        "**SHAP**"
      ]
    },
    {
      "cell_type": "code",
      "execution_count": 9,
      "metadata": {
        "id": "2peo6bYCOLCL"
      },
      "outputs": [],
      "source": [
        "import shap\n",
        "# Créer une fonction wrapper pour le modèle\n",
        "def model_predict(X_train):\n",
        "    return clf.predict_proba(X_train)[:, 1]"
      ]
    },
    {
      "cell_type": "code",
      "execution_count": 10,
      "metadata": {
        "id": "AwLQKxGkSEh9"
      },
      "outputs": [],
      "source": [
        "# Créer un objet explicatif explicateur\n",
        "explainer = shap.Explainer(model_predict, X_train)"
      ]
    },
    {
      "cell_type": "code",
      "execution_count": 11,
      "metadata": {
        "colab": {
          "base_uri": "https://localhost:8080/"
        },
        "id": "MV4QR6DDSyFQ",
        "outputId": "0229c843-5366-4b30-ced3-a84b71d93254"
      },
      "outputs": [
        {
          "name": "stderr",
          "output_type": "stream",
          "text": [
            "PermutationExplainer explainer: 2it [00:10, 10.03s/it]               "
          ]
        },
        {
          "name": "stdout",
          "output_type": "stream",
          "text": [
            ".values =\n",
            "array([[ 0.23264075, -0.06296722, -0.00812795, -0.05499965,  0.02081712,\n",
            "        -0.05077156,  0.01578651, -0.05276434, -0.05203863,  0.00717178,\n",
            "        -0.02132909]])\n",
            "\n",
            ".base_values =\n",
            "array([0.70411006])\n",
            "\n",
            ".data =\n",
            "array([[1, 0, 0, 0, 1, 1, 0, 0, 0, 1, 0]])\n"
          ]
        },
        {
          "name": "stderr",
          "output_type": "stream",
          "text": [
            "\n"
          ]
        }
      ],
      "source": [
        "# Calculate SHAP values for a single instance (e.g., the 6e instance in the test set)\n",
        "sample_idx = 55\n",
        "# Use explainer(...) instead of explainer.shap_values(...) for ExactExplainer\n",
        "shap_values_55 = explainer(X_test.iloc[sample_idx:sample_idx+1, :])\n",
        "print(shap_values_55)"
      ]
    },
    {
      "cell_type": "code",
      "execution_count": 12,
      "metadata": {
        "id": "uiiYzgNeS376"
      },
      "outputs": [],
      "source": [
        "shap_values_55 = explainer(X_test.iloc[sample_idx:sample_idx+1, :])\n",
        "# Access the values attribute of the Explanation object\n",
        "shap_values_array = shap_values_55.values\n",
        "\n",
        "# Now you can perform operations on the numerical array\n",
        "shap_df = np.sum(np.abs(shap_values_array), axis=0)"
      ]
    },
    {
      "cell_type": "code",
      "execution_count": 13,
      "metadata": {
        "colab": {
          "base_uri": "https://localhost:8080/"
        },
        "id": "A2-bPyRPTX0N",
        "outputId": "6bdd694f-c25f-42a3-b7d9-318b63353604"
      },
      "outputs": [
        {
          "name": "stdout",
          "output_type": "stream",
          "text": [
            "                  Feature  SHAP Score\n",
            "0           Epigastralgie    0.228927\n",
            "1   Metastases Hepatiques    0.064194\n",
            "2             Dénutrition    0.009606\n",
            "3                   tabac    0.048684\n",
            "4                Mucineux    0.020736\n",
            "5     Ulcéro Bourgeonnant    0.055825\n",
            "6             Adenopaties    0.021420\n",
            "7        Ulcere gastrique    0.051456\n",
            "8              infiltrant    0.051878\n",
            "9            Cardiopathie    0.006162\n",
            "10              Sténosant    0.022184\n"
          ]
        }
      ],
      "source": [
        "shap_values_55 = explainer(X_test.iloc[sample_idx:sample_idx+1, :])\n",
        "# Access the values attribute of the Explanation object\n",
        "shap_values_array = shap_values_55.values\n",
        "\n",
        "# Now you can perform operations on the numerical array\n",
        "shap_df = np.sum(np.abs(shap_values_array), axis=0)\n",
        "\n",
        "# Use X_test.columns instead of X.columns\n",
        "shap_df = pd.DataFrame({'Feature': X_test.columns, 'SHAP Score': shap_df})\n",
        "print(shap_df)"
      ]
    }
  ],
  "metadata": {
    "colab": {
      "provenance": []
    },
    "kernelspec": {
      "display_name": "Python 3",
      "name": "python3"
    },
    "language_info": {
      "codemirror_mode": {
        "name": "ipython",
        "version": 3
      },
      "file_extension": ".py",
      "mimetype": "text/x-python",
      "name": "python",
      "nbconvert_exporter": "python",
      "pygments_lexer": "ipython3",
      "version": "3.9.13"
    }
  },
  "nbformat": 4,
  "nbformat_minor": 0
}
